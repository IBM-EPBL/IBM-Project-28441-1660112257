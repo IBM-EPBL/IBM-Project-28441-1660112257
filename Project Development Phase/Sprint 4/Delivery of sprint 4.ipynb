{
 "cells": [
  {
   "cell_type": "code",
   "execution_count": 4,
   "id": "aec48cbe",
   "metadata": {
    "_cell_guid": "b1076dfc-b9ad-4769-8c92-a6c4dae69d19",
    "_uuid": "8f2839f25d086af736a60e9eeb907d3b93b6e0e5",
    "execution": {
     "iopub.execute_input": "2021-07-25T10:32:55.997040Z",
     "iopub.status.busy": "2021-07-25T10:32:55.996368Z",
     "iopub.status.idle": "2021-07-25T10:32:59.963347Z",
     "shell.execute_reply": "2021-07-25T10:32:59.962323Z",
     "shell.execute_reply.started": "2021-07-25T09:57:37.739334Z"
    },
    "papermill": {
     "duration": 3.993902,
     "end_time": "2021-07-25T10:32:59.963548",
     "exception": false,
     "start_time": "2021-07-25T10:32:55.969646",
     "status": "completed"
    },
    "tags": []
   },
   "outputs": [],
   "source": [
    "\n",
    "import numpy as np # linear algebra\n",
    "import pandas as pd # data processing, CSV file I/O (e.g. pd.read_csv)\n",
    "\n",
    "import cv2\n",
    "import os\n",
    "import subprocess\n",
    "import matplotlib.pyplot as plt\n",
    "\n",
    "import tensorflow as tf\n",
    "from tensorflow import keras\n",
    "from tensorflow.keras import layers\n",
    "\n",
    "from pathlib import Path\n",
    "from collections import Counter\n",
    "\n"
   ]
  },
  {
   "cell_type": "code",
   "execution_count": 7,
   "id": "30ebf26c",
   "metadata": {
    "execution": {
     "iopub.execute_input": "2021-07-25T10:33:00.024888Z",
     "iopub.status.busy": "2021-07-25T10:33:00.024290Z",
     "iopub.status.idle": "2021-07-25T10:33:02.147837Z",
     "shell.execute_reply": "2021-07-25T10:33:02.148441Z",
     "shell.execute_reply.started": "2021-07-25T09:57:41.980773Z"
    },
    "papermill": {
     "duration": 2.14441,
     "end_time": "2021-07-25T10:33:02.148631",
     "exception": false,
     "start_time": "2021-07-25T10:33:00.004221",
     "status": "completed"
    },
    "tags": []
   },
   "outputs": [
    {
     "name": "stdout",
     "output_type": "stream",
     "text": [
      "Number of images found:  100\n",
      "Number of labels found:  100\n",
      "Number of unique characters:  10\n",
      "Characters present:  {'2', '9', '7', '4', '1', '8', '0', '5', '6', '3'}\n"
     ]
    }
   ],
   "source": [
    "\n",
    "data_dir = Path(\"input/\")\n",
    "\n",
    "# Get list of all the images\n",
    "images = sorted(list(map(str, list(data_dir.glob(\"*.png\")))))\n",
    "# image chứa đường dẫn của image\n",
    "labels = [img.split(os.path.sep)[-1].split(\".png\")[0] for img in images]\n",
    "characters = set(char for label in labels for char in label)\n",
    "\n",
    "print(\"Number of images found: \", len(images))\n",
    "print(\"Number of labels found: \", len(labels))\n",
    "print(\"Number of unique characters: \", len(characters))\n",
    "print(\"Characters present: \", characters)\n",
    "\n",
    "# Batch size for training and validation\n",
    "batch_size = 16\n",
    "\n",
    "# Desired image dimensions\n",
    "img_width = 128\n",
    "img_height = 32\n",
    "\n",
    "\n",
    "downsample_factor = 4\n",
    "\n",
    "# Maximum length of any captcha in the dataset\n",
    "max_length = max([len(label) for label in labels])"
   ]
  },
  {
   "cell_type": "code",
   "execution_count": 8,
   "id": "d0022190",
   "metadata": {
    "execution": {
     "iopub.execute_input": "2021-07-25T10:33:02.218271Z",
     "iopub.status.busy": "2021-07-25T10:33:02.217384Z",
     "iopub.status.idle": "2021-07-25T10:33:02.220533Z",
     "shell.execute_reply": "2021-07-25T10:33:02.220044Z",
     "shell.execute_reply.started": "2021-07-25T09:57:43.411542Z"
    },
    "papermill": {
     "duration": 0.027667,
     "end_time": "2021-07-25T10:33:02.220663",
     "exception": false,
     "start_time": "2021-07-25T10:33:02.192996",
     "status": "completed"
    },
    "tags": []
   },
   "outputs": [],
   "source": [
    "def preprocess(img, imgSize ):\n",
    "    ''' resize, transpose and standardization grayscale images '''\n",
    "    # create target image and copy sample image into it\n",
    "    widthTarget, heightTarget = imgSize \n",
    "    height, width = img.shape \n",
    "    factor_x = width / widthTarget\n",
    "    factor_y = height / heightTarget\n",
    "\n",
    "    factor = max(factor_x, factor_y)\n",
    "    # scale according to factor\n",
    "    newSize = (min(widthTarget, int(width / factor)), min(heightTarget, int(height / factor)))\n",
    "\n",
    "    img = cv2.resize(img, newSize)\n",
    "    target = np.ones(shape=(heightTarget, widthTarget), dtype='uint8') * 255\n",
    "    target[0:newSize[1], 0:newSize[0]] = img\n",
    "    # transpose\n",
    "    img = cv2.transpose(target)\n",
    "    # standardization\n",
    "    mean, stddev = cv2.meanStdDev(img)\n",
    "    mean = mean[0][0]\n",
    "    stddev = stddev[0][0]\n",
    "    img = img - mean\n",
    "    img = img // stddev if stddev > 0 else img\n",
    "    return img"
   ]
  },
  {
   "cell_type": "code",
   "execution_count": 9,
   "id": "bbc72674",
   "metadata": {
    "execution": {
     "iopub.execute_input": "2021-07-25T10:33:02.256855Z",
     "iopub.status.busy": "2021-07-25T10:33:02.256178Z",
     "iopub.status.idle": "2021-07-25T10:33:02.259069Z",
     "shell.execute_reply": "2021-07-25T10:33:02.259526Z",
     "shell.execute_reply.started": "2021-07-25T09:57:43.421929Z"
    },
    "papermill": {
     "duration": 0.022741,
     "end_time": "2021-07-25T10:33:02.259659",
     "exception": false,
     "start_time": "2021-07-25T10:33:02.236918",
     "status": "completed"
    },
    "tags": []
   },
   "outputs": [
    {
     "name": "stdout",
     "output_type": "stream",
     "text": [
      "\n",
      "train_size 80   valid_size 20\n"
     ]
    }
   ],
   "source": [
    "train_size = int(0.8 * len(labels))\n",
    "valid_size= int(len(labels) - train_size)\n",
    "# 80% data is for training. The rest of them is for validation\n",
    "\n",
    "print ('\\ntrain_size',train_size,'  valid_size',valid_size)"
   ]
  },
  {
   "cell_type": "code",
   "execution_count": 10,
   "id": "9007a207",
   "metadata": {
    "execution": {
     "iopub.execute_input": "2021-07-25T10:33:02.300163Z",
     "iopub.status.busy": "2021-07-25T10:33:02.299505Z",
     "iopub.status.idle": "2021-07-25T10:38:06.305494Z",
     "shell.execute_reply": "2021-07-25T10:38:06.304982Z",
     "shell.execute_reply.started": "2021-07-25T09:57:43.437926Z"
    },
    "papermill": {
     "duration": 304.030527,
     "end_time": "2021-07-25T10:38:06.305638",
     "exception": false,
     "start_time": "2021-07-25T10:33:02.275111",
     "status": "completed"
    },
    "tags": []
   },
   "outputs": [
    {
     "name": "stdout",
     "output_type": "stream",
     "text": [
      "\n",
      " train_x.shape (80, 128, 32, 1)\n",
      "\n",
      " valid_x.shape (20, 128, 32, 1)\n",
      "\n",
      " Example of label_valid 8393170\n"
     ]
    },
    {
     "data": {
      "image/png": "[encoded data removed]",
      "text/plain": [
       "<Figure size 648x1296 with 3 Axes>"
      ]
     },
     "metadata": {
      "needs_background": "light"
     },
     "output_type": "display_data"
    }
   ],
   "source": [
    "train_x = []\n",
    "valid_x = []\n",
    "i=0\n",
    "for image in images:\n",
    "    image = cv2.imread(image, cv2.IMREAD_GRAYSCALE)\n",
    "    image = preprocess(image, (128,32)) \n",
    "    image = image/255.\n",
    "    if i < train_size:\n",
    "        train_x.append(image)\n",
    "    else:\n",
    "        valid_x.append(image)\n",
    "    i = i+1\n",
    "\n",
    "train_x = np.array(train_x).reshape(-1, 128, 32, 1)\n",
    "valid_x = np.array(valid_x).reshape(-1, 128, 32, 1)\n",
    "\n",
    "print ('\\n train_x.shape',train_x.shape)\n",
    "print ('\\n valid_x.shape',valid_x.shape)\n",
    "\n",
    "label_train = labels[0:train_size]\n",
    "label_valid = labels[train_size:len(labels)]\n",
    "# They usually slit images into 2 folders, but I just have 1 so I have to label it again.\n",
    "\n",
    "#print ('\\n label_train',label_train)\n",
    "print('\\n Example of label_valid',label_valid[3])\n",
    "\n",
    "plt.figure(num='multi digit',figsize=(9,18))\n",
    "for i in range(3):\n",
    "    plt.subplot(3,3,i+1) \n",
    "    plt.title(label_valid[i])\n",
    "    plt.imshow(np.squeeze(valid_x[i,:,:,]))\n",
    "plt.show()\n"
   ]
  },
  {
   "cell_type": "code",
   "execution_count": 11,
   "id": "8916f611",
   "metadata": {
    "execution": {
     "iopub.execute_input": "2021-07-25T10:38:06.382764Z",
     "iopub.status.busy": "2021-07-25T10:38:06.381903Z",
     "iopub.status.idle": "2021-07-25T10:38:06.386318Z",
     "shell.execute_reply": "2021-07-25T10:38:06.386705Z",
     "shell.execute_reply.started": "2021-07-25T10:01:37.309853Z"
    },
    "papermill": {
     "duration": 0.029194,
     "end_time": "2021-07-25T10:38:06.386835",
     "exception": false,
     "start_time": "2021-07-25T10:38:06.357641",
     "status": "completed"
    },
    "tags": []
   },
   "outputs": [
    {
     "name": "stdout",
     "output_type": "stream",
     "text": [
      "39816931 \n",
      " [3 9 8 1 6 9 3 1]\n"
     ]
    }
   ],
   "source": [
    "alphabets = u\"0123456789' \"\n",
    "max_str_len = 10 # max length of input labels\n",
    "# My project have 7 digits per image, but as long as the max_str_len > the number of digit per image, \n",
    "#it's just fine\n",
    "num_of_characters = len(alphabets) + 1 # +1 for ctc pseudo blank\n",
    "num_of_timestamps = 32 # max length of predicted labels\n",
    "# I find out that if the num_of_timestamps ... I forgot it... \n",
    "\n",
    "def label_to_num(label):\n",
    "    label_num = []\n",
    "    for ch in label:\n",
    "        label_num.append(alphabets.find(ch))\n",
    "        \n",
    "    return np.array(label_num)\n",
    "\n",
    "def num_to_label(num):\n",
    "    ret = \"\"\n",
    "    for ch in num:\n",
    "        if ch == -1:  # CTC Blank\n",
    "            break\n",
    "        else:\n",
    "            ret+=alphabets[ch]\n",
    "    return ret\n",
    "\n",
    "name = '39816931'\n",
    "print(name, '\\n',label_to_num(name))"
   ]
  },
  {
   "cell_type": "code",
   "execution_count": 12,
   "id": "06bfc74b",
   "metadata": {
    "execution": {
     "iopub.execute_input": "2021-07-25T10:38:06.469281Z",
     "iopub.status.busy": "2021-07-25T10:38:06.463269Z",
     "iopub.status.idle": "2021-07-25T10:38:06.790193Z",
     "shell.execute_reply": "2021-07-25T10:38:06.792202Z",
     "shell.execute_reply.started": "2021-07-25T10:01:37.320566Z"
    },
    "papermill": {
     "duration": 0.356705,
     "end_time": "2021-07-25T10:38:06.792492",
     "exception": false,
     "start_time": "2021-07-25T10:38:06.435787",
     "status": "completed"
    },
    "tags": []
   },
   "outputs": [
    {
     "name": "stdout",
     "output_type": "stream",
     "text": [
      "\n",
      " True label_train  :  1453681 \n",
      "train_y :  [ 1.  4.  5.  3.  6.  8.  1. -1. -1. -1.] \n",
      "train_label_len :  [7.] \n",
      "train_input_len :  [30.]\n",
      "\n",
      " True label_valid :  9093718 \n",
      "train_y :  [ 9.  0.  9.  3.  7.  1.  8. -1. -1. -1.] \n",
      "train_label_len :  [7.] \n",
      "train_input_len :  [30.]\n"
     ]
    }
   ],
   "source": [
    "train_y = np.ones([train_size, max_str_len]) * -1\n",
    "train_label_len = np.zeros([train_size, 1])\n",
    "train_input_len = np.ones([train_size, 1]) * (num_of_timestamps-2)\n",
    "train_output = np.zeros([train_size])\n",
    "\n",
    "for i in range(train_size):\n",
    "    train_label_len[i] = len(label_train[i])\n",
    "    train_y[i, 0:len(label_train[i])]= label_to_num(label_train[i])  \n",
    "    \n",
    "\n",
    "valid_y = np.ones([valid_size, max_str_len]) * -1\n",
    "valid_label_len = np.zeros([valid_size, 1])\n",
    "valid_input_len = np.ones([valid_size, 1]) * (num_of_timestamps-2)\n",
    "valid_output = np.zeros([valid_size])\n",
    "\n",
    "for i in range(valid_size):\n",
    "    valid_label_len[i] = len(label_valid[i])\n",
    "    valid_y[i, 0:len(label_valid[i])]= label_to_num(label_valid[i])   \n",
    "\n",
    "print('\\n True label_train  : ',label_train[10] , '\\ntrain_y : ',train_y[10],\n",
    "      '\\ntrain_label_len : ',train_label_len[10], '\\ntrain_input_len : ', train_input_len[10])\n",
    "\n",
    "print('\\n True label_valid : ',label_valid[10] , '\\ntrain_y : ',valid_y[10],\n",
    "      '\\ntrain_label_len : ',valid_label_len[10], '\\ntrain_input_len : ', valid_input_len[10])\n"
   ]
  },
  {
   "cell_type": "code",
   "execution_count": 13,
   "id": "cf138df0",
   "metadata": {
    "execution": {
     "iopub.execute_input": "2021-07-25T10:38:06.937994Z",
     "iopub.status.busy": "2021-07-25T10:38:06.937054Z",
     "iopub.status.idle": "2021-07-25T10:38:09.702740Z",
     "shell.execute_reply": "2021-07-25T10:38:09.703334Z",
     "shell.execute_reply.started": "2021-07-25T10:01:37.656928Z"
    },
    "papermill": {
     "duration": 2.815852,
     "end_time": "2021-07-25T10:38:09.703543",
     "exception": false,
     "start_time": "2021-07-25T10:38:06.887691",
     "status": "completed"
    },
    "tags": []
   },
   "outputs": [
    {
     "name": "stdout",
     "output_type": "stream",
     "text": [
      "Model: \"functional_1\"\n",
      "_________________________________________________________________\n",
      " Layer (type)                Output Shape              Param #   \n",
      "=================================================================\n",
      " image (InputLayer)          [(None, 128, 32, 1)]      0         \n",
      "                                                                 \n",
      " Conv1 (Conv2D)              (None, 128, 32, 32)       320       \n",
      "                                                                 \n",
      " pool1 (MaxPooling2D)        (None, 64, 16, 32)        0         \n",
      "                                                                 \n",
      " Conv2 (Conv2D)              (None, 64, 16, 64)        18496     \n",
      "                                                                 \n",
      " pool2 (MaxPooling2D)        (None, 32, 8, 64)         0         \n",
      "                                                                 \n",
      " reshape (Reshape)           (None, 32, 512)           0         \n",
      "                                                                 \n",
      " dense1 (Dense)              (None, 32, 64)            32832     \n",
      "                                                                 \n",
      " dropout (Dropout)           (None, 32, 64)            0         \n",
      "                                                                 \n",
      " bidirectional (Bidirectiona  (None, 32, 256)          197632    \n",
      " l)                                                              \n",
      "                                                                 \n",
      " bidirectional_1 (Bidirectio  (None, 32, 128)          164352    \n",
      " nal)                                                            \n",
      "                                                                 \n",
      " dense2 (Dense)              (None, 32, 11)            1419      \n",
      "                                                                 \n",
      "=================================================================\n",
      "Total params: 415,051\n",
      "Trainable params: 415,051\n",
      "Non-trainable params: 0\n",
      "_________________________________________________________________\n",
      "Model: \"ocr_model_v1\"\n",
      "__________________________________________________________________________________________________\n",
      " Layer (type)                   Output Shape         Param #     Connected to                     \n",
      "==================================================================================================\n",
      " image (InputLayer)             [(None, 128, 32, 1)  0           []                               \n",
      "                                ]                                                                 \n",
      "                                                                                                  \n",
      " Conv1 (Conv2D)                 (None, 128, 32, 32)  320         ['image[0][0]']                  \n",
      "                                                                                                  \n",
      " pool1 (MaxPooling2D)           (None, 64, 16, 32)   0           ['Conv1[0][0]']                  \n",
      "                                                                                                  \n",
      " Conv2 (Conv2D)                 (None, 64, 16, 64)   18496       ['pool1[0][0]']                  \n",
      "                                                                                                  \n",
      " pool2 (MaxPooling2D)           (None, 32, 8, 64)    0           ['Conv2[0][0]']                  \n",
      "                                                                                                  \n",
      " reshape (Reshape)              (None, 32, 512)      0           ['pool2[0][0]']                  \n",
      "                                                                                                  \n",
      " dense1 (Dense)                 (None, 32, 64)       32832       ['reshape[0][0]']                \n",
      "                                                                                                  \n",
      " dropout (Dropout)              (None, 32, 64)       0           ['dense1[0][0]']                 \n",
      "                                                                                                  \n",
      " bidirectional (Bidirectional)  (None, 32, 256)      197632      ['dropout[0][0]']                \n",
      "                                                                                                  \n",
      " bidirectional_1 (Bidirectional  (None, 32, 128)     164352      ['bidirectional[0][0]']          \n",
      " )                                                                                                \n",
      "                                                                                                  \n",
      " dense2 (Dense)                 (None, 32, 11)       1419        ['bidirectional_1[0][0]']        \n",
      "                                                                                                  \n",
      " gtruth_labels (InputLayer)     [(None, 10)]         0           []                               \n",
      "                                                                                                  \n",
      " input_length (InputLayer)      [(None, 1)]          0           []                               \n",
      "                                                                                                  \n",
      " label_length (InputLayer)      [(None, 1)]          0           []                               \n",
      "                                                                                                  \n",
      " ctc (Lambda)                   (None, 1)            0           ['dense2[0][0]',                 \n",
      "                                                                  'gtruth_labels[0][0]',          \n",
      "                                                                  'input_length[0][0]',           \n",
      "                                                                  'label_length[0][0]']           \n",
      "                                                                                                  \n",
      "==================================================================================================\n",
      "Total params: 415,051\n",
      "Trainable params: 415,051\n",
      "Non-trainable params: 0\n",
      "__________________________________________________________________________________________________\n"
     ]
    }
   ],
   "source": [
    "\n",
    "\n",
    "def build_model(img_width = 128,img_height = 32, max_str_len = 10):\n",
    "    # Inputs to the model\n",
    "\n",
    "    input_img = layers.Input(\n",
    "        shape=(img_width, img_height, 1), name=\"image\", dtype=\"float32\"\n",
    "    )\n",
    "    \n",
    "\n",
    "    # First conv block\n",
    "    x = layers.Conv2D(\n",
    "        32,\n",
    "        (3, 3),\n",
    "        activation=\"relu\",\n",
    "        kernel_initializer=\"he_normal\",\n",
    "        padding=\"same\",\n",
    "        name=\"Conv1\",\n",
    "    )(input_img)\n",
    "    x = layers.MaxPooling2D((2, 2), name=\"pool1\")(x)\n",
    "\n",
    "    # Second conv block\n",
    "    x = layers.Conv2D(\n",
    "        64,\n",
    "        (3, 3),\n",
    "        activation=\"relu\",\n",
    "        kernel_initializer=\"he_normal\",\n",
    "        padding=\"same\",\n",
    "        name=\"Conv2\",\n",
    "    )(x)\n",
    "    x = layers.MaxPooling2D((2, 2), name=\"pool2\")(x)\n",
    "\n",
    "    # We have used two max pool with pool size and strides 2.\n",
    "    # Hence, downsampled feature maps are 4x smaller. The number of\n",
    "    # filters in the last layer is 64. Reshape accordingly before\n",
    "    # passing the output to the RNN part of the model\n",
    "    new_shape = ((img_width // 4), (img_height // 4) * 64)\n",
    "    x = layers.Reshape(target_shape=new_shape, name=\"reshape\")(x)\n",
    "    x = layers.Dense(64, activation=\"relu\", name=\"dense1\")(x)\n",
    "    x = layers.Dropout(0.2)(x)\n",
    "\n",
    "    # RNNs\n",
    "    x = layers.Bidirectional(layers.LSTM(128, return_sequences=True, dropout=0.25))(x)\n",
    "    x = layers.Bidirectional(layers.LSTM(64, return_sequences=True, dropout=0.25))(x)\n",
    "\n",
    "    # Output layer\n",
    "    y_pred = layers.Dense(10 + 1, activation=\"softmax\", name=\"dense2\")(x) # y pred\n",
    "    model = keras.models.Model(inputs=input_img, outputs=y_pred, name=\"functional_1\")\n",
    "\n",
    "    def ctc_lambda_func(args):\n",
    "        y_pred, labels, input_length, label_length = args\n",
    "        # the 2 is critical here since the first couple outputs of the RNN\n",
    "        # tend to be garbage\n",
    "        y_pred = y_pred[:, 2:, :]\n",
    "        return tf.keras.backend.ctc_batch_cost(labels, y_pred, input_length, label_length)\n",
    "\n",
    "    labels = layers.Input(name='gtruth_labels', shape=[max_str_len], dtype='float32')\n",
    "    input_length = layers.Input(name='input_length', shape=[1], dtype='int64')\n",
    "    label_length = layers.Input(name='label_length', shape=[1], dtype='int64')\n",
    "\n",
    "    ctc_loss = keras.layers.Lambda(ctc_lambda_func, output_shape=(1,), name='ctc')([y_pred, labels, input_length, label_length])\n",
    "    model_final = keras.models.Model(inputs=[input_img, labels, input_length, label_length], outputs=ctc_loss, name = \"ocr_model_v1\")\n",
    "    \n",
    "    return model, model_final\n",
    "\n",
    "model, model_final = build_model()\n",
    "model.summary()\n",
    "model_final.summary()"
   ]
  },
  {
   "cell_type": "code",
   "execution_count": 14,
   "id": "cc358d0c",
   "metadata": {
    "_kg_hide-input": false,
    "execution": {
     "iopub.execute_input": "2021-07-25T10:38:09.825304Z",
     "iopub.status.busy": "2021-07-25T10:38:09.824788Z",
     "iopub.status.idle": "2021-07-25T11:03:55.315596Z",
     "shell.execute_reply": "2021-07-25T11:03:55.315079Z",
     "shell.execute_reply.started": "2021-07-25T10:01:40.289033Z"
    },
    "papermill": {
     "duration": 1545.519989,
     "end_time": "2021-07-25T11:03:55.315748",
     "exception": false,
     "start_time": "2021-07-25T10:38:09.795759",
     "status": "completed"
    },
    "tags": []
   },
   "outputs": [
    {
     "name": "stderr",
     "output_type": "stream",
     "text": [
      "C:\\Users\\Zero\\AppData\\Roaming\\Python\\Python39\\site-packages\\keras\\optimizers\\optimizer_v2\\adam.py:114: UserWarning: The `lr` argument is deprecated, use `learning_rate` instead.\n",
      "  super().__init__(name, **kwargs)\n"
     ]
    },
    {
     "name": "stdout",
     "output_type": "stream",
     "text": [
      "Epoch 1/60\n",
      "1/1 [==============================] - 20s 20s/step - loss: 49.7114 - val_loss: 49.7010\n",
      "Epoch 2/60\n",
      "1/1 [==============================] - 0s 433ms/step - loss: 49.6544 - val_loss: 49.6409\n",
      "Epoch 3/60\n",
      "1/1 [==============================] - 0s 440ms/step - loss: 49.6003 - val_loss: 49.5798\n",
      "Epoch 4/60\n",
      "1/1 [==============================] - 0s 453ms/step - loss: 49.5392 - val_loss: 49.5168\n",
      "Epoch 5/60\n",
      "1/1 [==============================] - 0s 416ms/step - loss: 49.4777 - val_loss: 49.4514\n",
      "Epoch 6/60\n",
      "1/1 [==============================] - 0s 403ms/step - loss: 49.4184 - val_loss: 49.3829\n",
      "Epoch 7/60\n",
      "1/1 [==============================] - 0s 496ms/step - loss: 49.3512 - val_loss: 49.3106\n",
      "Epoch 8/60\n",
      "1/1 [==============================] - 0s 470ms/step - loss: 49.2858 - val_loss: 49.2338\n",
      "Epoch 9/60\n",
      "1/1 [==============================] - 0s 415ms/step - loss: 49.2114 - val_loss: 49.1517\n",
      "Epoch 10/60\n",
      "1/1 [==============================] - 0s 433ms/step - loss: 49.1298 - val_loss: 49.0635\n",
      "Epoch 11/60\n",
      "1/1 [==============================] - 0s 445ms/step - loss: 49.0494 - val_loss: 48.9683\n",
      "Epoch 12/60\n",
      "1/1 [==============================] - 0s 453ms/step - loss: 48.9543 - val_loss: 48.8648\n",
      "Epoch 13/60\n",
      "1/1 [==============================] - 0s 417ms/step - loss: 48.8565 - val_loss: 48.7524\n",
      "Epoch 14/60\n",
      "1/1 [==============================] - 0s 435ms/step - loss: 48.7481 - val_loss: 48.6300\n",
      "Epoch 15/60\n",
      "1/1 [==============================] - 0s 432ms/step - loss: 48.6265 - val_loss: 48.4961\n",
      "Epoch 16/60\n",
      "1/1 [==============================] - 0s 497ms/step - loss: 48.5120 - val_loss: 48.3491\n",
      "Epoch 17/60\n",
      "1/1 [==============================] - 0s 419ms/step - loss: 48.3549 - val_loss: 48.1876\n",
      "Epoch 18/60\n",
      "1/1 [==============================] - 0s 430ms/step - loss: 48.2000 - val_loss: 48.0092\n",
      "Epoch 19/60\n",
      "1/1 [==============================] - 0s 439ms/step - loss: 48.0339 - val_loss: 47.8113\n",
      "Epoch 20/60\n",
      "1/1 [==============================] - 0s 432ms/step - loss: 47.8442 - val_loss: 47.5917\n",
      "Epoch 21/60\n",
      "1/1 [==============================] - 0s 403ms/step - loss: 47.6214 - val_loss: 47.3470\n",
      "Epoch 22/60\n",
      "1/1 [==============================] - 0s 441ms/step - loss: 47.3953 - val_loss: 47.0739\n",
      "Epoch 23/60\n",
      "1/1 [==============================] - 0s 408ms/step - loss: 47.1192 - val_loss: 46.7686\n",
      "Epoch 24/60\n",
      "1/1 [==============================] - 0s 450ms/step - loss: 46.8362 - val_loss: 46.4260\n",
      "Epoch 25/60\n",
      "1/1 [==============================] - 0s 450ms/step - loss: 46.4908 - val_loss: 46.0407\n",
      "Epoch 26/60\n",
      "1/1 [==============================] - 0s 401ms/step - loss: 46.1152 - val_loss: 45.6063\n",
      "Epoch 27/60\n",
      "1/1 [==============================] - 0s 450ms/step - loss: 45.6764 - val_loss: 45.1149\n",
      "Epoch 28/60\n",
      "1/1 [==============================] - 0s 482ms/step - loss: 45.2027 - val_loss: 44.5583\n",
      "Epoch 29/60\n",
      "1/1 [==============================] - 0s 470ms/step - loss: 44.6238 - val_loss: 43.9269\n",
      "Epoch 30/60\n",
      "1/1 [==============================] - 0s 447ms/step - loss: 44.0233 - val_loss: 43.2102\n",
      "Epoch 31/60\n",
      "1/1 [==============================] - 0s 436ms/step - loss: 43.3281 - val_loss: 42.3952\n",
      "Epoch 32/60\n",
      "1/1 [==============================] - 1s 579ms/step - loss: 42.4942 - val_loss: 41.4687\n",
      "Epoch 33/60\n",
      "1/1 [==============================] - 0s 453ms/step - loss: 41.5828 - val_loss: 40.4156\n",
      "Epoch 34/60\n",
      "1/1 [==============================] - 0s 436ms/step - loss: 40.5527 - val_loss: 39.2208\n",
      "Epoch 35/60\n",
      "1/1 [==============================] - 0s 469ms/step - loss: 39.3707 - val_loss: 37.8697\n",
      "Epoch 36/60\n",
      "1/1 [==============================] - 0s 499ms/step - loss: 38.0042 - val_loss: 36.3492\n",
      "Epoch 37/60\n",
      "1/1 [==============================] - 0s 449ms/step - loss: 36.5093 - val_loss: 34.6536\n",
      "Epoch 38/60\n",
      "1/1 [==============================] - 0s 437ms/step - loss: 34.7760 - val_loss: 32.7836\n",
      "Epoch 39/60\n",
      "1/1 [==============================] - 0s 466ms/step - loss: 32.9107 - val_loss: 30.7544\n",
      "Epoch 40/60\n",
      "1/1 [==============================] - 1s 503ms/step - loss: 30.9305 - val_loss: 28.6018\n",
      "Epoch 41/60\n",
      "1/1 [==============================] - 1s 534ms/step - loss: 28.7972 - val_loss: 26.3874\n",
      "Epoch 42/60\n",
      "1/1 [==============================] - 0s 471ms/step - loss: 26.6001 - val_loss: 24.2032\n",
      "Epoch 43/60\n",
      "1/1 [==============================] - 0s 474ms/step - loss: 24.4481 - val_loss: 22.1691\n",
      "Epoch 44/60\n",
      "1/1 [==============================] - 0s 451ms/step - loss: 22.4667 - val_loss: 20.4203\n",
      "Epoch 45/60\n",
      "1/1 [==============================] - 0s 486ms/step - loss: 20.8061 - val_loss: 19.0807\n",
      "Epoch 46/60\n",
      "1/1 [==============================] - 0s 462ms/step - loss: 19.5140 - val_loss: 18.2309\n",
      "Epoch 47/60\n",
      "1/1 [==============================] - 0s 487ms/step - loss: 18.6831 - val_loss: 17.8814\n",
      "Epoch 48/60\n",
      "1/1 [==============================] - 0s 415ms/step - loss: 18.3368 - val_loss: 17.9614\n",
      "Epoch 49/60\n",
      "1/1 [==============================] - 0s 404ms/step - loss: 18.4153 - val_loss: 18.3334\n",
      "Epoch 50/60\n",
      "1/1 [==============================] - 0s 484ms/step - loss: 18.7816 - val_loss: 18.8309\n",
      "Epoch 51/60\n",
      "1/1 [==============================] - 1s 568ms/step - loss: 19.2567 - val_loss: 19.3085\n",
      "Epoch 52/60\n",
      "1/1 [==============================] - 0s 419ms/step - loss: 19.6970 - val_loss: 19.6744\n",
      "Epoch 53/60\n",
      "1/1 [==============================] - 0s 417ms/step - loss: 20.0297 - val_loss: 19.8902\n",
      "Epoch 54/60\n",
      "1/1 [==============================] - 0s 480ms/step - loss: 20.2011 - val_loss: 19.9555\n",
      "Epoch 55/60\n",
      "1/1 [==============================] - 0s 419ms/step - loss: 20.2447 - val_loss: 19.8896\n",
      "Epoch 56/60\n",
      "1/1 [==============================] - 0s 400ms/step - loss: 20.2033 - val_loss: 19.7210\n",
      "Epoch 57/60\n",
      "1/1 [==============================] - 0s 492ms/step - loss: 20.0613 - val_loss: 19.4812\n",
      "Epoch 58/60\n",
      "1/1 [==============================] - 0s 406ms/step - loss: 19.7316 - val_loss: 19.2030\n",
      "Epoch 59/60\n",
      "1/1 [==============================] - 0s 417ms/step - loss: 19.4655 - val_loss: 18.9142\n",
      "Epoch 60/60\n",
      "1/1 [==============================] - 0s 472ms/step - loss: 19.1669 - val_loss: 18.6385\n"
     ]
    },
    {
     "data": {
      "text/plain": [
       "<keras.callbacks.History at 0x2c10421bb80>"
      ]
     },
     "execution_count": 14,
     "metadata": {},
     "output_type": "execute_result"
    }
   ],
   "source": [
    "opt = keras.optimizers.Adam()\n",
    "\n",
    "early_stopping_patience = 5\n",
    "# Add early stopping\n",
    "early_stopping = keras.callbacks.EarlyStopping(\n",
    "    monitor=\"val_loss\", patience=early_stopping_patience, restore_best_weights=True\n",
    ")\n",
    "\n",
    "model_final.compile(loss={'ctc': lambda y_true, y_pred: y_pred}, optimizer=keras.optimizers.Adam(lr = 0.0001))\n",
    "\n",
    "model_final.fit(x=[train_x, train_y, train_input_len, train_label_len], y=train_output, \n",
    "                validation_data=([valid_x, valid_y, valid_input_len, valid_label_len], valid_output),\n",
    "                epochs=60, \n",
    "                batch_size=128)\n"
   ]
  },
  {
   "cell_type": "code",
   "execution_count": null,
   "id": "af473d92",
   "metadata": {},
   "outputs": [],
   "source": []
  }
 ],
 "metadata": {
  "kernelspec": {
   "display_name": "Python 3 (ipykernel)",
   "language": "python",
   "name": "python3"
  },
  "language_info": {
   "codemirror_mode": {
    "name": "ipython",
    "version": 3
   },
   "file_extension": ".py",
   "mimetype": "text/x-python",
   "name": "python",
   "nbconvert_exporter": "python",
   "pygments_lexer": "ipython3",
   "version": "3.9.12"
  },
  "papermill": {
   "default_parameters": {},
   "duration": 1960.884495,
   "end_time": "2021-07-25T11:05:30.125809",
   "environment_variables": {},
   "exception": null,
   "input_path": "__notebook__.ipynb",
   "output_path": "__notebook__.ipynb",
   "parameters": {},
   "start_time": "2021-07-25T10:32:49.241314",
   "version": "2.3.3"
  }
 },
 "nbformat": 4,
 "nbformat_minor": 5
}
